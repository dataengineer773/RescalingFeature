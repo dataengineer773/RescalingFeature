{
 "cells": [
  {
   "cell_type": "code",
   "execution_count": 1,
   "id": "f37e49a9-a7ec-44a7-94f0-b8d865c3fec6",
   "metadata": {},
   "outputs": [],
   "source": [
    "# Load libraries\n",
    "import numpy as np\n",
    "from sklearn import preprocessing"
   ]
  },
  {
   "cell_type": "code",
   "execution_count": 2,
   "id": "5d318273-189c-4f83-957a-e857536508a0",
   "metadata": {},
   "outputs": [],
   "source": [
    "# Create feature\n",
    "feature = np.array([[-500.5],\n",
    "[-100.1],\n",
    "[0],\n",
    "[100.1],\n",
    "[900.9]])"
   ]
  },
  {
   "cell_type": "code",
   "execution_count": 3,
   "id": "20bb1391-f2d1-4559-ba6d-e8e6f98833cc",
   "metadata": {},
   "outputs": [],
   "source": [
    "# Create scaler\n",
    "minmax_scale = preprocessing.MinMaxScaler(feature_range=(0, 1))"
   ]
  },
  {
   "cell_type": "code",
   "execution_count": 4,
   "id": "90bb7865-5428-48c0-a8f8-91eb1f9cc436",
   "metadata": {},
   "outputs": [],
   "source": [
    "# Scale feature\n",
    "scaled_feature = minmax_scale.fit_transform(feature)"
   ]
  },
  {
   "cell_type": "code",
   "execution_count": 5,
   "id": "c9f8b94d-4e9c-4786-88f5-09bfa9c7d773",
   "metadata": {},
   "outputs": [
    {
     "data": {
      "text/plain": [
       "array([[0.        ],\n",
       "       [0.28571429],\n",
       "       [0.35714286],\n",
       "       [0.42857143],\n",
       "       [1.        ]])"
      ]
     },
     "execution_count": 5,
     "metadata": {},
     "output_type": "execute_result"
    }
   ],
   "source": [
    "# Show feature\n",
    "scaled_feature"
   ]
  }
 ],
 "metadata": {
  "kernelspec": {
   "display_name": "Python 3 (ipykernel)",
   "language": "python",
   "name": "python3"
  },
  "language_info": {
   "codemirror_mode": {
    "name": "ipython",
    "version": 3
   },
   "file_extension": ".py",
   "mimetype": "text/x-python",
   "name": "python",
   "nbconvert_exporter": "python",
   "pygments_lexer": "ipython3",
   "version": "3.12.3"
  }
 },
 "nbformat": 4,
 "nbformat_minor": 5
}
